{
 "cells": [
  {
   "cell_type": "code",
   "execution_count": 1,
   "id": "da1c13e7-1e40-4df3-ad5a-3ed1647ff736",
   "metadata": {},
   "outputs": [],
   "source": [
    "# import sys\n",
    "# !{sys.executable} -m pip install Pyarrow"
   ]
  },
  {
   "cell_type": "code",
   "execution_count": 2,
   "id": "50388b57-1d52-44e7-8666-d6297b083be7",
   "metadata": {},
   "outputs": [],
   "source": [
    "import pandas as pd\n",
    "import numpy as np\n",
    "import base64\n",
    "import io\n",
    "import datetime\n",
    "import plotly.graph_objects as go\n",
    "from dash import Dash, dcc, html, dash_table, Input, Output, State, callback\n",
    "from dash.exceptions import PreventUpdate\n",
    "from github import Github\n",
    "from github import InputGitTreeElement\n",
    "import json\n",
    "import re\n",
    "import requests\n",
    "import plotly.graph_objs as go"
   ]
  },
  {
   "cell_type": "code",
   "execution_count": 3,
   "id": "4a9ea5bf-ec7a-4344-9f3d-fa65ca8d8ba2",
   "metadata": {},
   "outputs": [],
   "source": [
    "vars = list()\n",
    "with open('git_pat.txt', 'r') as file:\n",
    "    for line in file:\n",
    "        vars.append(line.replace('\\n', ''))\n",
    "        \n",
    "token = vars[0]\n",
    "repo_for_upload = vars[1]\n",
    "\n",
    "g = Github(token)\n",
    "\n",
    "repo = g.get_repo(repo_for_upload)"
   ]
  },
  {
   "cell_type": "code",
   "execution_count": 4,
   "id": "689456cc-3d6b-457e-ad41-0e6bcd4eb1cd",
   "metadata": {},
   "outputs": [],
   "source": [
    "def read_from_git(path):\n",
    "    owner = vars[1].split('/')[0]\n",
    "    repo = vars[1].split('/')[1]\n",
    "    token = vars[0]\n",
    "    \n",
    "    r = requests.get('https://api.github.com/repos/{owner}/{repo}/contents/{path}'.format(owner=owner, repo=repo, path=path),\n",
    "                     headers={'accept': 'application/vnd.github.v3.raw','authorization': 'token {}'.format(token)})\n",
    "    return r   "
   ]
  },
  {
   "cell_type": "code",
   "execution_count": 5,
   "id": "c8b94a37-bfd9-4b54-9a8c-e74333d1cba4",
   "metadata": {},
   "outputs": [],
   "source": [
    "external_stylesheets = ['https://codepen.io/chriddyp/pen/bWLwgP.css']\n",
    "\n",
    "app = Dash(__name__, external_stylesheets=external_stylesheets)"
   ]
  },
  {
   "cell_type": "code",
   "execution_count": 6,
   "id": "3af0a1dc-a93b-4761-9a5c-7e40ace64664",
   "metadata": {},
   "outputs": [],
   "source": [
    "h1_style={'color':'#344e41','backgroundColor':'#dad7cd','text-align': 'center','font-weight':'bold'}\n",
    "\n",
    "Tab_Style={'backgroundColor': '#000000','border':'none','padding': '6px','fontWeight': 'bold','color': 'white'}\n",
    "\n",
    "Tab_Selected_Style={'borderTop': '4px solid #0000FF','borderBottom': '1px solid black','borderLeft': '1px solid black',\n",
    "    'borderRight': '1px solid black','backgroundColor': '#1F1F1F','color': 'white','padding': '6px'}"
   ]
  },
  {
   "cell_type": "code",
   "execution_count": 7,
   "id": "982057f1-3567-477c-b5a7-37836ee4be62",
   "metadata": {},
   "outputs": [],
   "source": [
    "def parse_contents(contents, filename, date):\n",
    "    content_type, content_string = contents.split(',')\n",
    "    decoded = base64.b64decode(content_string)\n",
    "    \n",
    "    try:\n",
    "        if 'csv' in filename:\n",
    "            # Assume that the user uploaded a CSV file\n",
    "            df = pd.read_csv(\n",
    "                io.StringIO(decoded.decode('utf-8')))\n",
    "        elif 'xlsx' in filename:\n",
    "            # Assume that the user uploaded an excel file\n",
    "            df = pd.read_excel(io.BytesIO(decoded))\n",
    "    except Exception as e:\n",
    "        print(e)\n",
    "        df=pd.DataFrame(data=['There was an error processing the data'],columns=['Error'])\n",
    "        return [df.to_dict('records'),[{'name': i, 'id': i} for i in df.columns]]\n",
    "        \n",
    "    folder='session_'+datetime.datetime.now().strftime('%Y%m%d_%H%M%S')\n",
    "    dest_path_on_git_hub=folder+'/'+re.sub('.xlsx','',re.sub('.csv','',filename))+'.json'\n",
    "    commit_message=datetime.datetime.now().strftime('%Y-%m-%d %H:%M:%S')+': JSON file uploaded'\n",
    "    json_data=df.to_json()\n",
    "    repo.create_file(dest_path_on_git_hub, commit_message, json_data)\n",
    "    repo.create_file(folder+'/dtype.json', datetime.datetime.now().strftime('%Y-%m-%d %H:%M:%S')+': dtype file uploaded', json.dumps({x:str(df[x].dtype) for x in df.columns}))\n",
    "    file_contents=repo.get_contents('current_dest_path_on_git_hub.txt')\n",
    "    repo.update_file('current_dest_path_on_git_hub.txt', 'path updated', dest_path_on_git_hub,file_contents.sha)\n",
    "    \n",
    "    return [df.to_dict('records'),[{'name': i, 'id': i} for i in df.columns]]"
   ]
  },
  {
   "cell_type": "code",
   "execution_count": 8,
   "id": "621cde0d-257c-4e7c-b612-441a938a2436",
   "metadata": {},
   "outputs": [],
   "source": [
    "app.layout = html.Div([\n",
    "    html.Div([html.H1(html.B('DataVista'),style=h1_style,className='row')]),\n",
    "    dcc.Tabs(id='tabs-1',\n",
    "              value='tab-1',\n",
    "              children=[\n",
    "                    dcc.Tab(label='Data',\n",
    "                            value='tab-1',\n",
    "                            # style=Tab_Style,\n",
    "                            #  selected_style=Tab_Selected_Style,\n",
    "                            className='custom-tab',\n",
    "                            selected_className='custom-tab--selected',\n",
    "                            children=[\n",
    "                                html.Div([\n",
    "                                    dcc.Upload(\n",
    "                                        id='upload-data',\n",
    "                                        children=html.Div([\n",
    "                                            'Drag and Drop or ',\n",
    "                                            html.A('Select Files')\n",
    "                                        ]),\n",
    "                                        style={\n",
    "                                            'width': '100%',\n",
    "                                            'height': '60px',\n",
    "                                            'lineHeight': '60px',\n",
    "                                            'borderWidth': '1px',\n",
    "                                            'borderStyle': 'dashed',\n",
    "                                            'borderRadius': '5px',\n",
    "                                            'textAlign': 'center',\n",
    "                                            'margin': '10px'\n",
    "                                        },\n",
    "                                        className='row',\n",
    "                                        multiple=False)]),\n",
    "                                html.Div(html.H4('Data Preview',className='row')),\n",
    "                                html.Div(children=[dash_table.DataTable(id='dashtable',filter_action=\"native\",sort_action=\"native\",page_size=20)],className='row'),\n",
    "                                html.Div(html.H4('Data Summarizing'),className='row'),\n",
    "                                html.Div([\n",
    "                                    html.Div([html.H6('Row Field',className='row'),\n",
    "                                                 dcc.Dropdown(id='row_field',multi=True,searchable=True,className='row')],className='three columns'),\n",
    "                                    html.Div([html.H6('Column Field',className='row'),\n",
    "                                                 dcc.Dropdown(id='column_field',multi=True,searchable=True,className='row')],className='three columns'),\n",
    "                                    html.Div([html.H6('Data Field',className='row'),\n",
    "                                                 dcc.Dropdown(id='data_field',searchable=True,className='row')],className='three columns'),\n",
    "                                    html.Div([html.H6('Aggregator',className='row'),\n",
    "                                                 dcc.Dropdown(id='function_field',searchable=True,className='row')],className='three columns')],className='row'),\n",
    "                                html.Div(id='summary_table',className='row')]),\n",
    "                    dcc.Tab(label='Charts', \n",
    "                            value='tab-2',\n",
    "                            className='custom-tab',\n",
    "                            selected_className='custom-tab--selected',\n",
    "                           children=[\n",
    "                               html.Div([\n",
    "                                   html.Div([html.H6('X-Axis',className='row'),\n",
    "                                             dcc.Dropdown(id='x_axis',searchable=True,className='row')],className='three columns'),\n",
    "                                   html.Div([html.H6('Y-Axis',className='row'),\n",
    "                                             dcc.Dropdown(id='y_axis',searchable=True,className='row')],className='three columns'),\n",
    "                                   html.Div([html.H6('Aggregator',className='row'),\n",
    "                                             dcc.Dropdown(id='aggregator',searchable=True,className='row')],className='three columns'),\n",
    "                                   html.Div([html.H6('Chart Type',className='row'),\n",
    "                                             dcc.Dropdown(id='chart_type',options=['Bar','Line','Pie','Scatter'],searchable=True,className='row')],className='three columns')],className='row'),\n",
    "                               html.Div(dcc.Graph(id='chart',className='row'),className='row')]),\n",
    "                    dcc.Tab(label='Report',\n",
    "                            value='tab-3',\n",
    "                            className='custom-tab',\n",
    "                            selected_className='custom-tab--selected')])\n",
    "])"
   ]
  },
  {
   "cell_type": "code",
   "execution_count": 9,
   "id": "e5144a70-c086-4c42-b1e1-2dd7e0e1bd10",
   "metadata": {},
   "outputs": [],
   "source": [
    "@callback([Output('dashtable', 'data'),\n",
    "          Output('dashtable', 'columns')],\n",
    "          Input('upload-data', 'contents'),\n",
    "          State('upload-data', 'filename'),\n",
    "          State('upload-data', 'last_modified'))\n",
    "def update_output(list_of_contents, list_of_names, list_of_dates):\n",
    "    if list_of_contents is not None:\n",
    "        children=parse_contents(list_of_contents, list_of_names, list_of_dates)\n",
    "        \n",
    "        path=read_from_git('current_dest_path_on_git_hub.txt').text\n",
    "        data=read_from_git(path).json()\n",
    "        global df\n",
    "        df=pd.DataFrame(data)\n",
    "        col_dtypes=read_from_git(path.split('/')[0]+'/'+'dtype.json').json()\n",
    "        for i in col_dtypes.keys():\n",
    "            df[i]=df[i].astype(col_dtypes[i])            \n",
    "        return children\n",
    "    else:\n",
    "        df=pd.DataFrame(data=[' '],columns=[' '])\n",
    "        return [df.to_dict('records'),[{'name': i, 'id': i} for i in df.columns]]"
   ]
  },
  {
   "cell_type": "code",
   "execution_count": 10,
   "id": "295d4077-c2b1-426f-9dde-5b81b844edbb",
   "metadata": {},
   "outputs": [],
   "source": [
    "@callback([Output('row_field', 'options'),\n",
    "          Output('column_field', 'options'),\n",
    "          Output('data_field', 'options'),\n",
    "          Output('x_axis', 'options'),\n",
    "          Output('y_axis', 'options')],\n",
    "          [Input('dashtable', 'data'),\n",
    "          Input('row_field', 'value'),\n",
    "          Input('column_field', 'value'),\n",
    "          Input('x_axis', 'value'),\n",
    "          Input('y_axis', 'value')])\n",
    "def update_dropdown_options1(list_of_contents,val1,val2,val3,val4):\n",
    "    if list_of_contents is not None:\n",
    "        if val2 is not None:\n",
    "            opt1=[x for x in df.columns if x not in val2]\n",
    "        else:\n",
    "            opt1=[x for x in df.columns]\n",
    "        if val1 is not None:\n",
    "            opt2=[x for x in df.columns if x not in val1]\n",
    "        else:\n",
    "            opt2=[x for x in df.columns]\n",
    "        opt3=[x for x in df.columns]\n",
    "        if val4 is not None:\n",
    "            opt4=[x for x in df.columns if x not in val4]\n",
    "        else:\n",
    "            opt4=[x for x in df.columns]\n",
    "        if val3 is not None:\n",
    "            opt5=[x for x in df.columns if x not in val3]\n",
    "        else:\n",
    "            opt5=[x for x in df.columns]\n",
    "        return [opt1,opt2,opt3,opt4,opt5]\n",
    "    else:\n",
    "        raise PreventUpdate"
   ]
  },
  {
   "cell_type": "code",
   "execution_count": 13,
   "id": "d6624384-2d4d-49a1-b0d3-dae5ce304464",
   "metadata": {},
   "outputs": [],
   "source": [
    "@callback(Output('function_field', 'options'),\n",
    "          Input('data_field', 'value'))\n",
    "def update_dropdown_options2(value):\n",
    "    if value is not None:\n",
    "        if df[value].dtype in ['int64','float64']:\n",
    "            funcs=['Count','Distinct Count','Maximum','Minimum','Mean','Sum']\n",
    "        else:\n",
    "            funcs=['Count','Distinct Count']\n",
    "        opt=[x for x in funcs]\n",
    "        return opt\n",
    "    else:\n",
    "        return []"
   ]
  },
  {
   "cell_type": "code",
   "execution_count": 14,
   "id": "4494c381-ce38-48b3-a5a4-c1ece7214357",
   "metadata": {},
   "outputs": [],
   "source": [
    "@callback(Output('aggregator', 'options'),\n",
    "          Input('y_axis', 'value'))\n",
    "def update_dropdown_options3(value):\n",
    "    if value is not None:\n",
    "        if df[value].dtype in ['int64','float64']:\n",
    "            funcs=['Count','Distinct Count','Maximum','Minimum','Mean','Sum']\n",
    "        else:\n",
    "            funcs=['Count','Distinct Count']\n",
    "        opt=[x for x in funcs]\n",
    "        return opt\n",
    "    else:\n",
    "        return []"
   ]
  },
  {
   "cell_type": "code",
   "execution_count": 15,
   "id": "331a9af8-9237-4587-b5fb-d0d16134d407",
   "metadata": {},
   "outputs": [],
   "source": [
    "@callback(Output('summary_table', 'children'),\n",
    "          [Input('row_field', 'value'),\n",
    "          Input('column_field', 'value'),\n",
    "          Input('data_field', 'value'),\n",
    "          Input('function_field', 'value')])\n",
    "def update_summary_table(row,column,data,function):\n",
    "    if row is not None and column is not None and data is not None and function is not None:\n",
    "        if function=='Distinct Count':\n",
    "            function='nunique'\n",
    "        elif function=='Maximum':\n",
    "            function='max'\n",
    "        elif function=='Minimum':\n",
    "            function='min'\n",
    "        else:\n",
    "            function=function.lower()\n",
    "        summary=df.pivot_table(values=data,index=row,columns=column,aggfunc=function).reset_index()\n",
    "        return html.Div([dash_table.DataTable(\n",
    "            data=summary.to_dict('records'),\n",
    "            columns=[{'name': i, 'id': i} for i in summary.columns],\n",
    "            filter_action=\"native\",\n",
    "            sort_action=\"native\",\n",
    "            page_size=10,\n",
    "            export_format='xlsx',\n",
    "            export_headers='display')])"
   ]
  },
  {
   "cell_type": "code",
   "execution_count": 16,
   "id": "76ae27e7-0154-41ce-bcd9-40e3197ef138",
   "metadata": {},
   "outputs": [],
   "source": [
    "@callback(Output('chart', 'figure'),\n",
    "          [Input('x_axis', 'value'),\n",
    "          Input('y_axis', 'value'),\n",
    "          Input('aggregator', 'value'),\n",
    "          Input('chart_type', 'value')])\n",
    "def update_chart(x,y,function,chart_type):\n",
    "    if x is not None and y is not None and chart_type is not None and function is not None:\n",
    "        layout = dict(plot_bgcolor='white',\n",
    "                  margin=dict(t=20, l=20, r=20, b=20),\n",
    "                  xaxis=dict(title=x,showgrid=False),\n",
    "                  yaxis=dict(title=function+' of '+y,showgrid=False))\n",
    "        if function=='Distinct Count':\n",
    "            function='nunique'\n",
    "        elif function=='Maximum':\n",
    "            function='max'\n",
    "        elif function=='Minimum':\n",
    "            function='min'\n",
    "        else:\n",
    "            function=function.lower()\n",
    "        group=df.pivot_table(values=y,index=x,aggfunc=function).reset_index()\n",
    "        \n",
    "        if chart_type=='Pie':\n",
    "            fig=go.Figure(data=go.Pie(labels=group[x].values,values=group[y].values,text=group[x].values),layout=layout)\n",
    "        elif chart_type=='Bar':\n",
    "            fig=go.Figure(data=go.Bar(x=group[x].values,y=group[y].values,text=group[y].values),layout=layout)\n",
    "        elif chart_type=='Line':\n",
    "            fig=go.Figure(data=go.Scatter(x=group[x].values,y=group[y].values,text=group[y].values),layout=layout)\n",
    "        elif chart_type=='Scatter':\n",
    "            fig=go.Figure(data=go.Scatter(x=group[x].values,y=group[y].values,text=group[y].values,mode='markers'),layout=layout)\n",
    "        return fig\n",
    "    else:\n",
    "        fig=go.Figure()\n",
    "        # fig.update_layout(plot_bgcolor='white',paper_bgcolor='white',\n",
    "        #                   font=dict(color='white'),annotations=[{\"text\": \"No Data Available\",\"xref\": \"paper\",\"yref\": \"paper\",\n",
    "        #                     \"showarrow\": False,\"font\": {\"size\": 28}}])\n",
    "        fig.update_xaxes(showgrid=False,zeroline=False,showticklabels=False,visible=False)\n",
    "        fig.update_yaxes(showgrid=False,zeroline=False,showticklabels=False,visible=False)\n",
    "        return fig\n",
    "    "
   ]
  },
  {
   "cell_type": "code",
   "execution_count": 17,
   "id": "576c6f93-1ff4-4e86-94e0-c47fb4ad4bb4",
   "metadata": {},
   "outputs": [],
   "source": [
    "# df=pd.read_excel('Global_Superstore.xlsx')\n",
    "# df"
   ]
  },
  {
   "cell_type": "code",
   "execution_count": 18,
   "id": "ab3f5f56-161b-486f-9556-c9b807baf085",
   "metadata": {},
   "outputs": [
    {
     "name": "stdout",
     "output_type": "stream",
     "text": [
      "Dash app running on http://127.0.0.1:8050/\n"
     ]
    },
    {
     "data": {
      "application/javascript": [
       "window.open('http://127.0.0.1:8050/')"
      ],
      "text/plain": [
       "<IPython.core.display.Javascript object>"
      ]
     },
     "metadata": {},
     "output_type": "display_data"
    }
   ],
   "source": [
    "if __name__ == '__main__':\n",
    "    app.run(debug=True, jupyter_mode=\"tab\")"
   ]
  },
  {
   "cell_type": "code",
   "execution_count": 19,
   "id": "7ea7922b-05e0-49fb-afdc-a5ac7536a4d5",
   "metadata": {},
   "outputs": [],
   "source": [
    "# path.split('/')[0].split('_')[1]+sha"
   ]
  }
 ],
 "metadata": {
  "kernelspec": {
   "display_name": "Python 3 (ipykernel)",
   "language": "python",
   "name": "python3"
  },
  "language_info": {
   "codemirror_mode": {
    "name": "ipython",
    "version": 3
   },
   "file_extension": ".py",
   "mimetype": "text/x-python",
   "name": "python",
   "nbconvert_exporter": "python",
   "pygments_lexer": "ipython3",
   "version": "3.11.5"
  }
 },
 "nbformat": 4,
 "nbformat_minor": 5
}
